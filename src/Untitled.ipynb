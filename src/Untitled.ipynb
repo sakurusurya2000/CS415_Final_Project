{
 "cells": [
  {
   "cell_type": "code",
   "execution_count": 6,
   "id": "e5dc86fa",
   "metadata": {},
   "outputs": [
    {
     "name": "stdout",
     "output_type": "stream",
     "text": [
      "===> Loading demo dataset: Demo"
     ]
    },
    {
     "name": "stderr",
     "output_type": "stream",
     "text": [
      "\n",
      "|                                                       | 0/100 [00:00<?, ?it/s]\n",
      "|                                                       | 0/100 [01:22<?, ?it/s]\n",
      "Traceback (most recent call last):\n",
      "  File \"D:\\UIC\\CS-415\\Project\\Final\\src\\main.py\", line 67, in <module>\n",
      "    main()"
     ]
    },
    {
     "name": "stdout",
     "output_type": "stream",
     "text": [
      "\n",
      "Loss function: 1*L1\n",
      "Metrics: PSNR,SSIM\n",
      "===> Initializing trainer\n",
      "results are saved in D:/UIC/CS-415/Project/Final/results/GOPR0384_11_00/blur_gamma\n"
     ]
    },
    {
     "name": "stderr",
     "output_type": "stream",
     "text": [
      "\n",
      "  File \"D:\\UIC\\CS-415\\Project\\Final\\src\\main.py\", line 64, in main\n",
      "    main_worker(args.rank, args)\n",
      "  File \"D:\\UIC\\CS-415\\Project\\Final\\src\\main.py\", line 29, in main_worker\n",
      "    trainer.evaluate(epoch=args.start_epoch, mode='demo')\n",
      "  File \"D:\\UIC\\CS-415\\Project\\Final\\src\\train.py\", line 148, in evaluate\n",
      "    output = self.model(input)\n",
      "  File \"C:\\Users\\sakur\\anaconda3\\lib\\site-packages\\torch\\nn\\modules\\module.py\", line 1102, in _call_impl\n",
      "    return forward_call(*input, **kwargs)\n",
      "  File \"D:\\UIC\\CS-415\\Project\\Final\\src\\model\\__init__.py\", line 58, in forward\n",
      "    return self.model.G(input)\n",
      "  File \"C:\\Users\\sakur\\anaconda3\\lib\\site-packages\\torch\\nn\\modules\\module.py\", line 1102, in _call_impl\n",
      "    return forward_call(*input, **kwargs)\n",
      "  File \"C:\\Users\\sakur\\anaconda3\\lib\\site-packages\\torch\\nn\\parallel\\data_parallel.py\", line 166, in forward\n",
      "    return self.module(*inputs[0], **kwargs[0])\n",
      "  File \"C:\\Users\\sakur\\anaconda3\\lib\\site-packages\\torch\\nn\\modules\\module.py\", line 1102, in _call_impl\n",
      "    return forward_call(*input, **kwargs)\n",
      "  File \"D:\\UIC\\CS-415\\Project\\Final\\src\\model\\MSResNet.py\", line 59, in forward\n",
      "    output_pyramid[s] = self.body_models[s](input_s)\n",
      "  File \"C:\\Users\\sakur\\anaconda3\\lib\\site-packages\\torch\\nn\\modules\\module.py\", line 1102, in _call_impl\n",
      "    return forward_call(*input, **kwargs)\n",
      "  File \"D:\\UIC\\CS-415\\Project\\Final\\src\\model\\ResNet.py\", line 35, in forward\n",
      "    output = self.body(input)\n",
      "  File \"C:\\Users\\sakur\\anaconda3\\lib\\site-packages\\torch\\nn\\modules\\module.py\", line 1102, in _call_impl\n",
      "    return forward_call(*input, **kwargs)\n",
      "  File \"C:\\Users\\sakur\\anaconda3\\lib\\site-packages\\torch\\nn\\modules\\container.py\", line 141, in forward\n",
      "    input = module(input)\n",
      "  File \"C:\\Users\\sakur\\anaconda3\\lib\\site-packages\\torch\\nn\\modules\\module.py\", line 1102, in _call_impl\n",
      "    return forward_call(*input, **kwargs)\n",
      "  File \"C:\\Users\\sakur\\anaconda3\\lib\\site-packages\\torch\\nn\\modules\\conv.py\", line 446, in forward\n",
      "    return self._conv_forward(input, self.weight, self.bias)\n",
      "  File \"C:\\Users\\sakur\\anaconda3\\lib\\site-packages\\torch\\nn\\modules\\conv.py\", line 442, in _conv_forward\n",
      "    return F.conv2d(input, weight, bias, self.stride,\n",
      "RuntimeError: cuDNN error: CUDNN_STATUS_INTERNAL_ERROR\n",
      "You can try to repro this exception using the following code snippet. If that doesn't trigger the error, please include your original repro script when reporting this issue.\n",
      "\n",
      "import torch\n",
      "torch.backends.cuda.matmul.allow_tf32 = True\n",
      "torch.backends.cudnn.benchmark = True\n",
      "torch.backends.cudnn.deterministic = False\n",
      "torch.backends.cudnn.allow_tf32 = True\n",
      "data = torch.randn([1, 64, 720, 1280], dtype=torch.float, device='cuda', requires_grad=True)\n",
      "net = torch.nn.Conv2d(64, 3, kernel_size=[5, 5], padding=[2, 2], stride=[1, 1], dilation=[1, 1], groups=1)\n",
      "net = net.cuda().float()\n",
      "out = net(data)\n",
      "out.backward(torch.randn_like(out))\n",
      "torch.cuda.synchronize()\n",
      "\n",
      "ConvolutionParams \n",
      "    data_type = CUDNN_DATA_FLOAT\n",
      "    padding = [2, 2, 0]\n",
      "    stride = [1, 1, 0]\n",
      "    dilation = [1, 1, 0]\n",
      "    groups = 1\n",
      "    deterministic = false\n",
      "    allow_tf32 = true\n",
      "input: TensorDescriptor 0000023F8D156140\n",
      "    type = CUDNN_DATA_FLOAT\n",
      "    nbDims = 4\n",
      "    dimA = 1, 64, 720, 1280, \n",
      "    strideA = 58982400, 921600, 1280, 1, \n",
      "output: TensorDescriptor 0000023F8D156370\n",
      "    type = CUDNN_DATA_FLOAT\n",
      "    nbDims = 4\n",
      "    dimA = 1, 3, 720, 1280, \n",
      "    strideA = 2764800, 921600, 1280, 1, \n",
      "weight: FilterDescriptor 0000023F8A7826A0\n",
      "    type = CUDNN_DATA_FLOAT\n",
      "    tensor_format = CUDNN_TENSOR_NCHW\n",
      "    nbDims = 4\n",
      "    dimA = 3, 64, 5, 5, \n",
      "Pointer addresses: \n",
      "    input: 00000005350C0000\n",
      "    output: 0000000507DC0000\n",
      "    weight: 0000000500BF6400\n",
      "\n"
     ]
    }
   ],
   "source": [
    "!python main.py --save_dir GOPRO_L1 --demo_input_dir D:/UIC/CS-415/Project/Final/Research/GOPRO_Large/test/GOPR0384_11_00/blur_gamma --demo_output_dir D:/UIC/CS-415/Project/Final/results/GOPR0384_11_00/blur_gamma"
   ]
  },
  {
   "cell_type": "code",
   "execution_count": 5,
   "id": "89d2c26f",
   "metadata": {},
   "outputs": [],
   "source": [
    "import torch\n",
    "torch.backends.cuda.matmul.allow_tf32 = True\n",
    "torch.backends.cudnn.benchmark = True\n",
    "torch.backends.cudnn.deterministic = False\n",
    "torch.backends.cudnn.allow_tf32 = True\n",
    "data = torch.randn([1, 64, 720, 1280], dtype=torch.float, device='cuda', requires_grad=True)\n",
    "net = torch.nn.Conv2d(64, 3, kernel_size=[5, 5], padding=[2, 2], stride=[1, 1], dilation=[1, 1], groups=1)\n",
    "net = net.cuda().float()\n",
    "out = net(data)\n",
    "out.backward(torch.randn_like(out))\n",
    "torch.cuda.synchronize()"
   ]
  },
  {
   "cell_type": "code",
   "execution_count": null,
   "id": "8a8e8760",
   "metadata": {},
   "outputs": [],
   "source": []
  }
 ],
 "metadata": {
  "kernelspec": {
   "display_name": "Python 3 (ipykernel)",
   "language": "python",
   "name": "python3"
  },
  "language_info": {
   "codemirror_mode": {
    "name": "ipython",
    "version": 3
   },
   "file_extension": ".py",
   "mimetype": "text/x-python",
   "name": "python",
   "nbconvert_exporter": "python",
   "pygments_lexer": "ipython3",
   "version": "3.9.7"
  }
 },
 "nbformat": 4,
 "nbformat_minor": 5
}
